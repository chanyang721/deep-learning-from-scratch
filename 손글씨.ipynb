{
 "cells": [
  {
   "cell_type": "code",
   "execution_count": 108,
   "metadata": {
    "collapsed": true,
    "pycharm": {
     "name": "#%%\n"
    }
   },
   "outputs": [
    {
     "name": "stdout",
     "output_type": "stream",
     "text": [
      "4\n",
      "(784,)\n",
      "(28, 28)\n",
      "(60000, 784)\n",
      "(60000,)\n",
      "(10000, 784)\n",
      "(10000,)\n"
     ]
    }
   ],
   "source": [
    "import pickle\n",
    "import sys, os\n",
    "sys.path.append(os.pardir)\n",
    "import numpy as np\n",
    "from dataset.mnist import load_mnist\n",
    "from PIL import Image\n",
    "\n",
    "\n",
    "def img_show(img):\n",
    "    pil_img = Image.fromarray(np.uint8(img))\n",
    "    pil_img.show()\n",
    "\n",
    "# 최초 손글씨 데이터 로드\n",
    "(x_train, y_train), (x_test, y_test) = load_mnist(flatten=True, normalize=False)\n",
    "# Return (훈련 이미지 개수, 훈련 레이블 크기), (시험 이미지 개수, 시험 레이블 크기)\n",
    "\n",
    "img = x_train[12321]\n",
    "label = y_train[32321]\n",
    "print(label)\n",
    "\n",
    "print(img.shape)\n",
    "img = img.reshape(28, 28) # 이미지의 행렬 모양\n",
    "print(img.shape)\n",
    "img_show(img)\n",
    "\n",
    "print(x_train.shape)\n",
    "print(y_train.shape)\n",
    "print(x_test.shape)\n",
    "print(y_test.shape)\n",
    "\n",
    "def softmax(a):\n",
    "    c = np.max(a) # 오버 플로우를 감안한 소프트 맥수 함수 구현\n",
    "    exp_a = np.exp(a - c)\n",
    "    sum_exp_a = np.sum(exp_a)\n",
    "    y = exp_a / sum_exp_a\n",
    "\n",
    "    return y\n",
    "\n",
    "def sigmoid(x):\n",
    "    return 1 / (1 + np.exp(-x))"
   ]
  },
  {
   "cell_type": "code",
   "execution_count": 109,
   "outputs": [
    {
     "name": "stdout",
     "output_type": "stream",
     "text": [
      "x_batch.shape : (100, 784)\n",
      "-------------------------------------------------------\n",
      "y_batch.size : 1000\n",
      "y_batch.shape : (100, 10)\n",
      "y_batch : [1.9897243e-07 2.1219858e-08 8.5782312e-06 3.8795356e-06 6.9997825e-09\n",
      " 2.9318613e-08 2.1244327e-11 4.6365861e-02 1.7664270e-08 2.4632223e-05]\n",
      "-------------------------------------------------------\n",
      "p : [7 2 1 0 4 1 4 9 6 9 0 6 9 0 1 5 9 7 3 4 9 6 6 5 4 0 7 4 0 1 3 1 3 6 7 2 7\n",
      " 1 2 1 1 7 4 2 3 5 1 2 4 4 6 3 5 5 6 0 4 1 9 7 7 8 9 3 7 4 6 4 3 0 7 0 2 9\n",
      " 1 7 3 2 9 7 7 6 2 7 8 4 7 3 6 1 3 6 4 3 1 4 1 7 6 9]\n",
      "-------------------------------------------------------\n",
      "t[i:i + batch_size] : [7 2 1 0 4 1 4 9 5 9 0 6 9 0 1 5 9 7 3 4 9 6 6 5 4 0 7 4 0 1 3 1 3 4 7 2 7\n",
      " 1 2 1 1 7 4 2 3 5 1 2 4 4 6 3 5 5 6 0 4 1 9 5 7 8 9 3 7 4 6 4 3 0 7 0 2 9\n",
      " 1 7 3 2 9 7 7 6 2 7 8 4 7 3 6 1 3 6 9 3 1 4 1 7 6 9]\n",
      "-------------------------------------------------------\n",
      "[ True  True  True  True  True  True  True  True False  True  True  True\n",
      "  True  True  True  True  True  True  True  True  True  True  True  True\n",
      "  True  True  True  True  True  True  True  True  True False  True  True\n",
      "  True  True  True  True  True  True  True  True  True  True  True  True\n",
      "  True  True  True  True  True  True  True  True  True  True  True False\n",
      "  True  True  True  True  True  True  True  True  True  True  True  True\n",
      "  True  True  True  True  True  True  True  True  True  True  True  True\n",
      "  True  True  True  True  True  True  True  True False  True  True  True\n",
      "  True  True  True  True]\n",
      "-------------------------------------------------------\n",
      "x_batch.shape : (100, 784)\n",
      "-------------------------------------------------------\n",
      "y_batch.size : 1000\n",
      "y_batch.shape : (100, 10)\n"
     ]
    },
    {
     "name": "stderr",
     "output_type": "stream",
     "text": [
      "/var/folders/yf/mmrj8c9d2zbfn3w8crhhf0_r0000gn/T/ipykernel_47428/2445826353.py:40: RuntimeWarning: overflow encountered in exp\n",
      "  return 1 / (1 + np.exp(-x))\n"
     ]
    },
    {
     "ename": "IndexError",
     "evalue": "index 100 is out of bounds for axis 0 with size 100",
     "output_type": "error",
     "traceback": [
      "\u001B[0;31m---------------------------------------------------------------------------\u001B[0m",
      "\u001B[0;31mIndexError\u001B[0m                                Traceback (most recent call last)",
      "Input \u001B[0;32mIn [109]\u001B[0m, in \u001B[0;36m<cell line: 38>\u001B[0;34m()\u001B[0m\n\u001B[1;32m     44\u001B[0m \u001B[38;5;28mprint\u001B[39m(\u001B[38;5;124m\"\u001B[39m\u001B[38;5;124my_batch.size :\u001B[39m\u001B[38;5;124m\"\u001B[39m, y_batch\u001B[38;5;241m.\u001B[39msize)\n\u001B[1;32m     45\u001B[0m \u001B[38;5;28mprint\u001B[39m(\u001B[38;5;124m\"\u001B[39m\u001B[38;5;124my_batch.shape :\u001B[39m\u001B[38;5;124m\"\u001B[39m, y_batch\u001B[38;5;241m.\u001B[39mshape)\n\u001B[0;32m---> 46\u001B[0m \u001B[38;5;28mprint\u001B[39m(\u001B[38;5;124m\"\u001B[39m\u001B[38;5;124my_batch :\u001B[39m\u001B[38;5;124m\"\u001B[39m, \u001B[43my_batch\u001B[49m\u001B[43m[\u001B[49m\u001B[43mi\u001B[49m\u001B[43m]\u001B[49m)\n\u001B[1;32m     47\u001B[0m \u001B[38;5;28mprint\u001B[39m(\u001B[38;5;124m\"\u001B[39m\u001B[38;5;124m-------------------------------------------------------\u001B[39m\u001B[38;5;124m\"\u001B[39m)\n\u001B[1;32m     48\u001B[0m p \u001B[38;5;241m=\u001B[39m np\u001B[38;5;241m.\u001B[39margmax(y_batch, axis \u001B[38;5;241m=\u001B[39m \u001B[38;5;241m1\u001B[39m) \u001B[38;5;66;03m# 해당 확률이 가장 높은 원소의 인덱스를 얻는다\u001B[39;00m\n",
      "\u001B[0;31mIndexError\u001B[0m: index 100 is out of bounds for axis 0 with size 100"
     ]
    }
   ],
   "source": [
    "def get_data():\n",
    "    (x_train, y_train), (x_test, y_test) = load_mnist(flatten=True, normalize=False, one_hot_label=False)\n",
    "    # normalize = 정규화 유뮤 (식별 능력 개선)\n",
    "    # 입력 데이터를 정규화하는 것을 전처리한다 라고 부른다\n",
    "    return x_test, y_test\n",
    "\n",
    "def init_network():\n",
    "    with open(\"sample_weight.pkl\", 'rb') as f:\n",
    "        # pickle 실행 중 특정 객체를 파일로 저장 하는 기능\n",
    "        network = pickle.load(f)\n",
    "\n",
    "    return network\n",
    "\n",
    "def predict(network, X):\n",
    "    W1, W2, W3 = network[\"W1\"], network[\"W2\"], network[\"W3\"]\n",
    "    B1, B2, B3 = network[\"b1\"], network[\"b2\"], network[\"b3\"]\n",
    "\n",
    "    # 입력층\n",
    "    A1 = np.dot(X, W1) + B1  # 입력 신호 * 가중치\n",
    "    R1 = sigmoid(A1)         # 활성화 함수 작용\n",
    "\n",
    "    # 은닉층\n",
    "    A2 = np.dot(R1, W2) + B2\n",
    "    R2 = sigmoid(A2)\n",
    "\n",
    "    # 출력층\n",
    "    A3 = np.dot(R2, W3) + B3\n",
    "    y = softmax(A3)          # 분석 결과\n",
    "\n",
    "    return y\n",
    "\n",
    "\n",
    "x, t = get_data() # 학습 데이터 로딩\n",
    "network = init_network() # 신경망 네트워크 생성\n",
    "\n",
    "batch_size = 100 # 배치 크기\n",
    "accuracy_cnt = 0 # 정확도 측정 변수\n",
    "for i in range(0, len(x), batch_size):\n",
    "    x_batch = x[i:i+batch_size]\n",
    "    print(\"x_batch.shape :\", x_batch.shape)\n",
    "    print(\"-------------------------------------------------------\")\n",
    "\n",
    "    y_batch = predict(network, x_batch)\n",
    "    print(\"y_batch.size :\", y_batch.size)\n",
    "    print(\"y_batch.shape :\", y_batch.shape)\n",
    "    print(\"y_batch :\", y_batch[i])\n",
    "    print(\"-------------------------------------------------------\")\n",
    "    p = np.argmax(y_batch, axis = 1) # 해당 확률이 가장 높은 원소의 인덱스를 얻는다\n",
    "    # print(f\"p = {p}, t[i] = {t[i]}\")\n",
    "\n",
    "    print(\"p :\", p)\n",
    "    print(\"-------------------------------------------------------\")\n",
    "    print(\"t[i:i + batch_size] :\", t[i:i + batch_size])\n",
    "    print(\"-------------------------------------------------------\")\n",
    "    print(p == t[i:i + batch_size]) # 배열 p와 배열 t의 값이 같은지 불린 배열 생성\n",
    "    print(\"-------------------------------------------------------\")\n",
    "\n",
    "    # print(np.sum(p == t[i:i + batch_size])) # 배열의 True 개수를 더함\n",
    "    accuracy_cnt += np.sum(p == t[i:i + batch_size])\n",
    "\n",
    "print(\"Accuracy :\", str(float(accuracy_cnt) / len(x)))"
   ],
   "metadata": {
    "collapsed": false,
    "pycharm": {
     "name": "#%%\n"
    }
   }
  },
  {
   "cell_type": "code",
   "execution_count": null,
   "outputs": [],
   "source": [
    "print(list(range(0, 10)))\n",
    "x = list(range(0, 10))\n",
    "print(list(range(2, 11, 3))) # 3을 간격으로 리스트 생성\n",
    "y = x[1:1 + 2]\n",
    "print(y)"
   ],
   "metadata": {
    "collapsed": false,
    "pycharm": {
     "name": "#%%\n"
    }
   }
  },
  {
   "cell_type": "markdown",
   "source": [],
   "metadata": {
    "collapsed": false,
    "pycharm": {
     "name": "#%% md\n"
    }
   }
  },
  {
   "cell_type": "code",
   "execution_count": null,
   "outputs": [],
   "source": [
    "x = np.array([\n",
    "    [0.1, 0.2, 0.2],\n",
    "    [0.2, 0.3, 0.2],\n",
    "    [0.1, 0.7, 0.6],\n",
    "    [0.9, 0.2, 0.8]\n",
    "])\n",
    "\n",
    "y = np.argmax(x, axis=1) #\n",
    "print(y)"
   ],
   "metadata": {
    "collapsed": false,
    "pycharm": {
     "name": "#%%\n"
    }
   }
  },
  {
   "cell_type": "code",
   "execution_count": null,
   "outputs": [],
   "source": [],
   "metadata": {
    "collapsed": false,
    "pycharm": {
     "name": "#%%\n"
    }
   }
  }
 ],
 "metadata": {
  "kernelspec": {
   "display_name": "Python 3",
   "language": "python",
   "name": "python3"
  },
  "language_info": {
   "codemirror_mode": {
    "name": "ipython",
    "version": 2
   },
   "file_extension": ".py",
   "mimetype": "text/x-python",
   "name": "python",
   "nbconvert_exporter": "python",
   "pygments_lexer": "ipython2",
   "version": "2.7.6"
  }
 },
 "nbformat": 4,
 "nbformat_minor": 0
}